{
  "nbformat": 4,
  "nbformat_minor": 0,
  "metadata": {
    "colab": {
      "provenance": []
    },
    "kernelspec": {
      "name": "python3",
      "display_name": "Python 3"
    },
    "language_info": {
      "name": "python"
    }
  },
  "cells": [
    {
      "cell_type": "markdown",
      "source": [
        "##CALCULAR EL CAMBIO (VUELTAS) DE UNA COMPRA"
      ],
      "metadata": {
        "id": "vwfdYOqjev2L"
      }
    },
    {
      "cell_type": "code",
      "execution_count": 3,
      "metadata": {
        "colab": {
          "base_uri": "https://localhost:8080/"
        },
        "id": "8TSiEpDSd1zb",
        "outputId": "2d0792b7-f48f-4824-baf1-b7c7d8a1423e"
      },
      "outputs": [
        {
          "name": "stdout",
          "output_type": "stream",
          "text": [
            "Solicito el costo del artículo 8.600\n"
          ]
        }
      ],
      "source": [
        "#Leer el costo del artículo\n",
        "cos=float(input(\"Solicito el costo del artículo \"))"
      ]
    },
    {
      "cell_type": "code",
      "source": [
        "#Leer la cantidad de dinero entregado por el cliente\n",
        "alt=float(input(\"Solicito la cantidad de dinero entregado por el cliente \"))"
      ],
      "metadata": {
        "colab": {
          "base_uri": "https://localhost:8080/"
        },
        "id": "sdPzZBvMe9Ns",
        "outputId": "6130160a-8886-4929-f0c0-3ee4a2e0a433"
      },
      "execution_count": 5,
      "outputs": [
        {
          "name": "stdout",
          "output_type": "stream",
          "text": [
            "Solicito la cantidad de dinero entregado por el cliente 10.0000\n"
          ]
        }
      ]
    },
    {
      "cell_type": "code",
      "source": [
        "#imprimir\"colocar dato\"\n",
        "#Leer y asignar en la variable cambio.\n",
        "cambio=alt-cos"
      ],
      "metadata": {
        "id": "LQsaepdwf_Nx"
      },
      "execution_count": 6,
      "outputs": []
    },
    {
      "cell_type": "code",
      "source": [
        "print(f\"El cambio es {cambio} \")"
      ],
      "metadata": {
        "colab": {
          "base_uri": "https://localhost:8080/"
        },
        "id": "oCmxrg_0gUuG",
        "outputId": "ca3f1c8c-5caa-4866-89e0-19294de18c10"
      },
      "execution_count": 7,
      "outputs": [
        {
          "output_type": "stream",
          "name": "stdout",
          "text": [
            "El cambio es 1.4000000000000004 \n"
          ]
        }
      ]
    },
    {
      "cell_type": "markdown",
      "source": [
        "##CALCULAR LA SUPERFICIE DE UN TRIANGULO\n"
      ],
      "metadata": {
        "id": "G45MaQXBgcTh"
      }
    },
    {
      "cell_type": "code",
      "source": [
        "#Leer el número de la base del triángulo\n",
        "bas=int(input(\"Solicito el número de la base del rectángulo \"))"
      ],
      "metadata": {
        "colab": {
          "base_uri": "https://localhost:8080/"
        },
        "id": "xYT1glC2ghcX",
        "outputId": "969ee03e-eecd-44a3-be44-0ce986489a4e"
      },
      "execution_count": 10,
      "outputs": [
        {
          "name": "stdout",
          "output_type": "stream",
          "text": [
            "Solicito el número de la base del rectángulo 7\n"
          ]
        }
      ]
    },
    {
      "cell_type": "code",
      "source": [
        "#Leer el número de la altura del triángulo\n",
        "alt=int(input(\"Solicito el número de la altura del rectángulo \"))"
      ],
      "metadata": {
        "colab": {
          "base_uri": "https://localhost:8080/"
        },
        "id": "rRSKVaVrgzRZ",
        "outputId": "13df095c-162f-4c57-db75-2a6a259cde6d"
      },
      "execution_count": 11,
      "outputs": [
        {
          "name": "stdout",
          "output_type": "stream",
          "text": [
            "Solicito el número de la altura del rectángulo 3\n"
          ]
        }
      ]
    },
    {
      "cell_type": "code",
      "source": [
        "#imprimir\"colocar dato\"\n",
        "#Leer y asignar en la variable superficie.\n",
        "superficie= (bas*alt)/2"
      ],
      "metadata": {
        "id": "UHV06Pv_g7eT"
      },
      "execution_count": 12,
      "outputs": []
    },
    {
      "cell_type": "code",
      "source": [
        "print(f\"La superficie es {superficie} \")"
      ],
      "metadata": {
        "colab": {
          "base_uri": "https://localhost:8080/"
        },
        "id": "WoKQc2mehQju",
        "outputId": "3919ee00-7eba-429d-ef40-57724d6897b0"
      },
      "execution_count": 13,
      "outputs": [
        {
          "output_type": "stream",
          "name": "stdout",
          "text": [
            "La superficie es 10.5 \n"
          ]
        }
      ]
    },
    {
      "cell_type": "markdown",
      "source": [
        "##CALCULAR LOS SEG EN UN NÚMERO DE DÍAS\n"
      ],
      "metadata": {
        "id": "Em6CWdUHhWv2"
      }
    },
    {
      "cell_type": "code",
      "source": [
        "#Leer el número de días\n",
        "dia=int(input(\"Solicito el número de días \"))"
      ],
      "metadata": {
        "colab": {
          "base_uri": "https://localhost:8080/"
        },
        "id": "WzZT6OffhgM0",
        "outputId": "60054e9a-84b5-4f75-be00-f13a03aa6aa7"
      },
      "execution_count": 14,
      "outputs": [
        {
          "name": "stdout",
          "output_type": "stream",
          "text": [
            "Solicito el número de días 6\n"
          ]
        }
      ]
    },
    {
      "cell_type": "code",
      "source": [
        "#imprimir\"colocar dato\"\n",
        "#Leer y asignar en la variable segundos.\n",
        "segundos= (dia*24*60*60)"
      ],
      "metadata": {
        "id": "iseEmrIXh_ZY"
      },
      "execution_count": 15,
      "outputs": []
    },
    {
      "cell_type": "code",
      "source": [
        "print(f\"Los segundos son {segundos} \")"
      ],
      "metadata": {
        "colab": {
          "base_uri": "https://localhost:8080/"
        },
        "id": "YD2RIilHiRKj",
        "outputId": "9e30289e-87f1-4a80-ac27-b5507e0655ac"
      },
      "execution_count": 16,
      "outputs": [
        {
          "output_type": "stream",
          "name": "stdout",
          "text": [
            "Los segundos son 518400 \n"
          ]
        }
      ]
    },
    {
      "cell_type": "markdown",
      "source": [
        "##CALCULAR EL ÁREA DE UN TRIÁNGULO CON UNA FÓRMULA"
      ],
      "metadata": {
        "id": "ALdGPx9gibs7"
      }
    },
    {
      "cell_type": "code",
      "source": [
        "#Leer las medidas de los tres lados del rectángulo\n",
        "Lado1=float(input(\"Ingrese Lado 1:\"))\n",
        "Lado2=float(input(\"Ingrese Lado 2:\"))\n",
        "Lado3=float(input(\"Ingrese Lado 3:\"))\n",
        "Lado4=float(input(\"Ingrese Lado 4:\"))\n",
        "Lado5=float(input(\"Ingrese Lado 5:\"))"
      ],
      "metadata": {
        "colab": {
          "base_uri": "https://localhost:8080/"
        },
        "id": "YuMLhHufilkj",
        "outputId": "b9fac078-c908-45e1-b803-bbfba920c03b"
      },
      "execution_count": 17,
      "outputs": [
        {
          "name": "stdout",
          "output_type": "stream",
          "text": [
            "Ingrese Lado 1:3\n",
            "Ingrese Lado 2:2.5\n",
            "Ingrese Lado 3:4\n",
            "Ingrese Lado 4:1.5\n",
            "Ingrese Lado 5:3\n"
          ]
        }
      ]
    },
    {
      "cell_type": "code",
      "source": [
        "#imprimir\"colocar dato\"\n",
        "#Leer y asignar en la variable s.\n",
        "s= (Lado1+Lado2+Lado3)/2"
      ],
      "metadata": {
        "id": "XNgSCsOYji5W"
      },
      "execution_count": 18,
      "outputs": []
    },
    {
      "cell_type": "code",
      "source": [
        "print(f\"S es {s} \")"
      ],
      "metadata": {
        "colab": {
          "base_uri": "https://localhost:8080/"
        },
        "id": "bDyvP53dj1cm",
        "outputId": "f433feb6-b003-47fc-ed0d-f804ac814773"
      },
      "execution_count": 19,
      "outputs": [
        {
          "output_type": "stream",
          "name": "stdout",
          "text": [
            "S es 4.75 \n"
          ]
        }
      ]
    },
    {
      "cell_type": "markdown",
      "source": [
        "##CALCULAR LA DISTANCIA ENTRE DOS PUNTOS"
      ],
      "metadata": {
        "id": "KcBHnqa8k3eD"
      }
    },
    {
      "cell_type": "code",
      "source": [
        "#Leer las coordenas del primer punto\n",
        "X1=float(input(\"Ingrese X1:\"))\n",
        "Y1=float(input(\"Ingrese Y1:\"))"
      ],
      "metadata": {
        "colab": {
          "base_uri": "https://localhost:8080/"
        },
        "id": "hp8o2YLik75c",
        "outputId": "f5017d95-6697-4caf-d267-2da9cf821db4"
      },
      "execution_count": 24,
      "outputs": [
        {
          "name": "stdout",
          "output_type": "stream",
          "text": [
            "Ingrese X1:1\n",
            "Ingrese Y1:7\n"
          ]
        }
      ]
    },
    {
      "cell_type": "code",
      "source": [
        "#Leer las coordenas del segundo punto\n",
        "X2=float(input(\"Ingrese X2:\"))\n",
        "Y2=float(input(\"Ingrese Y2:\"))"
      ],
      "metadata": {
        "colab": {
          "base_uri": "https://localhost:8080/"
        },
        "id": "zlVGNa7jlPGQ",
        "outputId": "1e355843-3f4d-4a66-b70f-7729e166c841"
      },
      "execution_count": 25,
      "outputs": [
        {
          "name": "stdout",
          "output_type": "stream",
          "text": [
            "Ingrese X2:6\n",
            "Ingrese Y2:3\n"
          ]
        }
      ]
    }
  ]
}