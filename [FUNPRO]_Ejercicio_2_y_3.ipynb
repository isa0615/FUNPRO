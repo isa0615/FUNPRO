{
  "nbformat": 4,
  "nbformat_minor": 0,
  "metadata": {
    "colab": {
      "provenance": []
    },
    "kernelspec": {
      "name": "python3",
      "display_name": "Python 3"
    },
    "language_info": {
      "name": "python"
    }
  },
  "cells": [
    {
      "cell_type": "markdown",
      "source": [
        "##CALCULAR EL CUADRADO Y EL CUBO DE UN NUMERO ENTERO POSITIVO"
      ],
      "metadata": {
        "id": "VzRRyx6hWkCf"
      }
    },
    {
      "cell_type": "code",
      "execution_count": 7,
      "metadata": {
        "colab": {
          "base_uri": "https://localhost:8080/"
        },
        "id": "n_Z5WjpzV77z",
        "outputId": "f393a7c4-1079-480d-83c3-822e5eff5441"
      },
      "outputs": [
        {
          "name": "stdout",
          "output_type": "stream",
          "text": [
            "Solicito el entero positivo 6\n"
          ]
        }
      ],
      "source": [
        "#Leer el entero número positivo\n",
        "cod=int(input(\"Solicito el entero positivo \"))"
      ]
    },
    {
      "cell_type": "code",
      "source": [
        "#imprimir\"colocar dato\"\n",
        "#Leer y asignar en la variable el cuadrado. El dato es alfanúmerico\n",
        "cuadrado=cod*cod\n"
      ],
      "metadata": {
        "id": "nGQuxQFsYRrm"
      },
      "execution_count": 8,
      "outputs": []
    },
    {
      "cell_type": "code",
      "source": [
        "print (f\"El cuadrado de número es {cuadrado} \")"
      ],
      "metadata": {
        "colab": {
          "base_uri": "https://localhost:8080/"
        },
        "id": "ywlR-R2-ZkIF",
        "outputId": "4c4a86bb-50c5-4255-ed4b-cf72ee0983a6"
      },
      "execution_count": 9,
      "outputs": [
        {
          "output_type": "stream",
          "name": "stdout",
          "text": [
            "El cuadrado de número es 36 \n"
          ]
        }
      ]
    },
    {
      "cell_type": "code",
      "source": [
        "#imprimir\"colocar dato\"\n",
        "#Leer y asignar en la variable el cubo. El dato es alfanúmerico\n",
        "cubo=cod*cod*cod"
      ],
      "metadata": {
        "id": "FVrEstRaas1L"
      },
      "execution_count": 15,
      "outputs": []
    },
    {
      "cell_type": "code",
      "source": [
        "print (f\"El cubo de número es {cubo}\")"
      ],
      "metadata": {
        "colab": {
          "base_uri": "https://localhost:8080/"
        },
        "id": "W0WpGwMIaywT",
        "outputId": "3b37f804-60f9-4a77-c6d9-946289c26dc1"
      },
      "execution_count": 16,
      "outputs": [
        {
          "output_type": "stream",
          "name": "stdout",
          "text": [
            "El cubo de número es 216\n"
          ]
        }
      ]
    },
    {
      "cell_type": "markdown",
      "source": [
        "## CALCULAR EL PERIMETRO Y la superficie de un rectángulo"
      ],
      "metadata": {
        "id": "WLrt6z7Fbd-D"
      }
    },
    {
      "cell_type": "code",
      "source": [
        "#Leer el número entero base del rectángulo\n",
        "cod=int(input(\"Solicito el número entero base del rectángulo \"))"
      ],
      "metadata": {
        "colab": {
          "base_uri": "https://localhost:8080/"
        },
        "id": "qU-76HosbwJy",
        "outputId": "038783cd-9a70-4d82-bb91-fc3395543bca"
      },
      "execution_count": 32,
      "outputs": [
        {
          "name": "stdout",
          "output_type": "stream",
          "text": [
            "Solicito el número entero base del rectángulo 3\n"
          ]
        }
      ]
    },
    {
      "cell_type": "code",
      "source": [
        "#Leer el número entero altura del rectángulo\n",
        "alt=int(input(\"Solicito el número entero altura del rectángulo \"))"
      ],
      "metadata": {
        "colab": {
          "base_uri": "https://localhost:8080/"
        },
        "id": "83E4BPKRc7Sy",
        "outputId": "47fb0783-fd69-4ea9-fb33-5fbca40ed67c"
      },
      "execution_count": 33,
      "outputs": [
        {
          "name": "stdout",
          "output_type": "stream",
          "text": [
            "Solicito el número entero altura del rectángulo 2\n"
          ]
        }
      ]
    },
    {
      "cell_type": "code",
      "source": [
        "#imprimir\"colocar dato\"\n",
        "#Leer y asignar en la variable Perímetro. El dato es alfanúmericop\n",
        "perimentro=(cod+alt)*2"
      ],
      "metadata": {
        "id": "9nZmW8N7dD8y"
      },
      "execution_count": 34,
      "outputs": []
    },
    {
      "cell_type": "code",
      "source": [
        "print(f\"El perimetro de número es {perimentro} \")"
      ],
      "metadata": {
        "colab": {
          "base_uri": "https://localhost:8080/"
        },
        "id": "TMkz-Ws7defB",
        "outputId": "d68b4422-ee5d-41c5-d7dc-5dce1f9ca5f7"
      },
      "execution_count": 35,
      "outputs": [
        {
          "output_type": "stream",
          "name": "stdout",
          "text": [
            "El perimetro de número es 10 \n"
          ]
        }
      ]
    },
    {
      "cell_type": "code",
      "source": [
        "#imprimir\"colocar dato\"\n",
        "#Leer y asignar en la variable Superficie. El dato es alfanúmericop\n",
        "superficie=cod*alt"
      ],
      "metadata": {
        "id": "P1IC0rPeeRHp"
      },
      "execution_count": 36,
      "outputs": []
    },
    {
      "cell_type": "code",
      "source": [
        "print(f\"La superficie de número es {superficie}\")"
      ],
      "metadata": {
        "colab": {
          "base_uri": "https://localhost:8080/"
        },
        "id": "uSCAyNNvehAo",
        "outputId": "21e3a591-46e4-4e29-c02e-aa245c63bf22"
      },
      "execution_count": 37,
      "outputs": [
        {
          "output_type": "stream",
          "name": "stdout",
          "text": [
            "La superficie de número es 6\n"
          ]
        }
      ]
    },
    {
      "cell_type": "markdown",
      "source": [
        "CALCULAR EL CAMBIO (VUELTAS) DE UNA COMPRA"
      ],
      "metadata": {
        "id": "qYodDipNe0JJ"
      }
    },
    {
      "cell_type": "code",
      "source": [],
      "metadata": {
        "id": "y_mDGTLUe9-w"
      },
      "execution_count": null,
      "outputs": []
    }
  ]
}